{
  "cells": [
    {
      "cell_type": "markdown",
      "metadata": {
        "id": "view-in-github",
        "colab_type": "text"
      },
      "source": [
        "<a href=\"https://colab.research.google.com/github/brigidoq/MonitoreoFolder/blob/main/01_ImportExportData.ipynb\" target=\"_parent\"><img src=\"https://colab.research.google.com/assets/colab-badge.svg\" alt=\"Open In Colab\"/></a>"
      ]
    },
    {
      "cell_type": "markdown",
      "metadata": {
        "id": "4AKPd6s9eLg4"
      },
      "source": [
        "# <center> IMPORTANDO Y EXPORTANDO DATA </center>\n",
        "## 1. Importando datos\n",
        "### 1.1 Importando desde una interfaz\n",
        "Desde un archivo (Plano: txt, csv ó con unformato avanzado: RData, sas7...., sav,....)"
      ]
    },
    {
      "cell_type": "code",
      "execution_count": null,
      "metadata": {
        "id": "QOMQGt6ieLg6"
      },
      "outputs": [],
      "source": [
        "import pandas as pd"
      ]
    },
    {
      "cell_type": "code",
      "execution_count": null,
      "metadata": {
        "id": "ts8_IIpzeLg8"
      },
      "outputs": [],
      "source": [
        "#Localmente (Esta en Mi PC o una ruta compartida)\n",
        "df1=pd.read_csv(\"bikes.csv\")\n",
        "df1.head()"
      ]
    },
    {
      "cell_type": "code",
      "execution_count": null,
      "metadata": {
        "id": "5pB2aMrweLg9"
      },
      "outputs": [],
      "source": [
        "# resumen de columnas: tipos de datos, nullos y cantidades\n",
        "df1.info()"
      ]
    },
    {
      "cell_type": "code",
      "execution_count": null,
      "metadata": {
        "id": "B61-fPwueLg9"
      },
      "outputs": [],
      "source": [
        "#Resumen destatística de columnas numéricas.\n",
        "df1.describe()"
      ]
    },
    {
      "cell_type": "markdown",
      "metadata": {
        "id": "j2SctlRqeLg-"
      },
      "source": [
        "### 1.2 Importando desde Excel\n"
      ]
    },
    {
      "cell_type": "code",
      "execution_count": null,
      "metadata": {
        "id": "law_dXQNeLg_"
      },
      "outputs": [],
      "source": [
        "dfFoodInfo = pd.read_excel('sampledatafoodinfo.xlsx', sheet_name='FoodList')\n",
        "dfFoodInfo.head()"
      ]
    },
    {
      "cell_type": "code",
      "source": [
        "# Reemplazar con nullos un campo\n",
        "dfFoodInfo['Measure'] = dfFoodInfo['Measure'].fillna(\"\")"
      ],
      "metadata": {
        "id": "0nIdUa2aexoI"
      },
      "execution_count": null,
      "outputs": []
    },
    {
      "cell_type": "code",
      "execution_count": null,
      "metadata": {
        "id": "4LeuNWNXeLg_"
      },
      "outputs": [],
      "source": [
        "#Reemplazar nullos por zero\n",
        "dfFoodInfo.fillna(0, inplace=True)"
      ]
    },
    {
      "cell_type": "markdown",
      "metadata": {
        "id": "F5aUWDo1eLhD"
      },
      "source": [
        "## 2. Exportando datos\n",
        "Cuando cerremos el notebook, todas las variables (dataframe) desaparece, por lo tanto es una muy buena practica respaldar la data extraida."
      ]
    },
    {
      "cell_type": "code",
      "execution_count": null,
      "metadata": {
        "id": "P13E67uneLhD"
      },
      "outputs": [],
      "source": [
        "dfFoodInfo.to_csv(\"df_loan.csv\", index=False)"
      ]
    }
  ],
  "metadata": {
    "kernelspec": {
      "display_name": "Python 3",
      "language": "python",
      "name": "python3"
    },
    "language_info": {
      "codemirror_mode": {
        "name": "ipython",
        "version": 3
      },
      "file_extension": ".py",
      "mimetype": "text/x-python",
      "name": "python",
      "nbconvert_exporter": "python",
      "pygments_lexer": "ipython3",
      "version": "3.8.3"
    },
    "colab": {
      "provenance": [],
      "include_colab_link": true
    }
  },
  "nbformat": 4,
  "nbformat_minor": 0
}